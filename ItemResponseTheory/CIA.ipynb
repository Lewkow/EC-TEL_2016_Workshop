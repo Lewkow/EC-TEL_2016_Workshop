{
 "cells": [
  {
   "cell_type": "markdown",
   "metadata": {
    "slideshow": {
     "slide_type": "slide"
    }
   },
   "source": [
    "# Item Analyses To Improve Test Bank Quality"
   ]
  },
  {
   "cell_type": "markdown",
   "metadata": {
    "slideshow": {
     "slide_type": "fragment"
    }
   },
   "source": [
    "Examines student responses to individual test items to assess the quality of those items "
   ]
  },
  {
   "cell_type": "markdown",
   "metadata": {
    "slideshow": {
     "slide_type": "fragment"
    }
   },
   "source": [
    "Valuable in improving items which will be used again in later tests"
   ]
  },
  {
   "cell_type": "markdown",
   "metadata": {
    "slideshow": {
     "slide_type": "fragment"
    }
   },
   "source": [
    "The quality of individual items is assessed by comparing students’ item responses to their total test scores."
   ]
  },
  {
   "cell_type": "markdown",
   "metadata": {
    "collapsed": true,
    "slideshow": {
     "slide_type": "slide"
    }
   },
   "source": [
    "## Item Statistics\n",
    "<p> Item statistics are used to assess the performance of individual test items on the assumption that the overall quality of a test derives from the quality of its items. </p> "
   ]
  },
  {
   "cell_type": "markdown",
   "metadata": {
    "slideshow": {
     "slide_type": "slide"
    }
   },
   "source": [
    "### Item Difficulty\n",
    "\n",
    "Item difficulty is simply the percentage of students who answer an item correctly. In this case, it is also equal to the item mean. \n",
    "The item difficulty index ranges from 0 to 100; the higher the value, the easier the question. Item difficulty plays an important role in the ability of an item to discriminate between students who know the tested material and those who do not. The item will have low discrimination if it is so difficult that almost everyone gets it wrong or guesses, or so easy that almost everyone gets it right. We can arbitrarily clasify item difficulty as:\n",
    "\n",
    "* “easy” if the index is 90% or above\n",
    "* “moderate” if it is between 21 and 90%\n",
    "* and “hard” if it is 20% or below."
   ]
  },
  {
   "cell_type": "markdown",
   "metadata": {
    "slideshow": {
     "slide_type": "slide"
    }
   },
   "source": [
    "### Item Discrimination\n",
    "\n",
    "Item discrimination refers to the ability of an item to differentiate among students on the basis of how well they know the material being tested. \n",
    "\n",
    "The item discrimination index is normally a Pearson Product Moment correlation between student responses to a particular item and total scores on all other items on the test. This index is the equivalent of a point-biserial coefficient. It provides an estimate of the degree to which an individual item is measuring the same thing as the rest of the items.\n",
    "\n",
    "Tests with high internal consistency consist of items with mostly positive relationships with total test score. We can classify item discrimination as: \n",
    "* “good” if the index is above .30\n",
    "* “fair” if it is between .10 and.30\n",
    "* and “poor” if it is below .10."
   ]
  },
  {
   "cell_type": "markdown",
   "metadata": {
    "slideshow": {
     "slide_type": "slide"
    }
   },
   "source": [
    "## Import required libraries and data"
   ]
  },
  {
   "cell_type": "code",
   "execution_count": 2,
   "metadata": {
    "collapsed": true,
    "slideshow": {
     "slide_type": "slide"
    }
   },
   "outputs": [],
   "source": [
    "import pandas as pd\n",
    "import matplotlib.pyplot as plt\n",
    "%matplotlib inline  "
   ]
  },
  {
   "cell_type": "code",
   "execution_count": 42,
   "metadata": {
    "collapsed": false,
    "slideshow": {
     "slide_type": "slide"
    }
   },
   "outputs": [
    {
     "name": "stdout",
     "output_type": "stream",
     "text": [
      "(2000, 26)\n"
     ]
    },
    {
     "data": {
      "text/html": [
       "<div style=\"max-height:1000px;max-width:1500px;overflow:auto;\">\n",
       "<table border=\"1\" class=\"dataframe\">\n",
       "  <thead>\n",
       "    <tr style=\"text-align: right;\">\n",
       "      <th></th>\n",
       "      <th>ID</th>\n",
       "      <th>item1</th>\n",
       "      <th>item2</th>\n",
       "      <th>item3</th>\n",
       "      <th>item4</th>\n",
       "      <th>item5</th>\n",
       "      <th>item6</th>\n",
       "      <th>item7</th>\n",
       "      <th>item8</th>\n",
       "      <th>item9</th>\n",
       "      <th>...</th>\n",
       "      <th>item16</th>\n",
       "      <th>item17</th>\n",
       "      <th>item18</th>\n",
       "      <th>item19</th>\n",
       "      <th>item20</th>\n",
       "      <th>item21</th>\n",
       "      <th>item22</th>\n",
       "      <th>item23</th>\n",
       "      <th>item24</th>\n",
       "      <th>item25</th>\n",
       "    </tr>\n",
       "  </thead>\n",
       "  <tbody>\n",
       "    <tr>\n",
       "      <th>0</th>\n",
       "      <td> 1</td>\n",
       "      <td> 0</td>\n",
       "      <td> 1</td>\n",
       "      <td> 1</td>\n",
       "      <td> 1</td>\n",
       "      <td> 1</td>\n",
       "      <td> 1</td>\n",
       "      <td> 1</td>\n",
       "      <td> 1</td>\n",
       "      <td> 1</td>\n",
       "      <td>...</td>\n",
       "      <td> 1</td>\n",
       "      <td> 0</td>\n",
       "      <td> 1</td>\n",
       "      <td> 1</td>\n",
       "      <td> 1</td>\n",
       "      <td> 1</td>\n",
       "      <td> 0</td>\n",
       "      <td> 1</td>\n",
       "      <td> 1</td>\n",
       "      <td> 0</td>\n",
       "    </tr>\n",
       "    <tr>\n",
       "      <th>1</th>\n",
       "      <td> 2</td>\n",
       "      <td> 1</td>\n",
       "      <td> 0</td>\n",
       "      <td> 1</td>\n",
       "      <td> 1</td>\n",
       "      <td> 1</td>\n",
       "      <td> 1</td>\n",
       "      <td> 1</td>\n",
       "      <td> 0</td>\n",
       "      <td> 1</td>\n",
       "      <td>...</td>\n",
       "      <td> 1</td>\n",
       "      <td> 1</td>\n",
       "      <td> 1</td>\n",
       "      <td> 1</td>\n",
       "      <td> 1</td>\n",
       "      <td> 1</td>\n",
       "      <td> 1</td>\n",
       "      <td> 1</td>\n",
       "      <td> 1</td>\n",
       "      <td> 1</td>\n",
       "    </tr>\n",
       "    <tr>\n",
       "      <th>2</th>\n",
       "      <td> 3</td>\n",
       "      <td> 1</td>\n",
       "      <td> 0</td>\n",
       "      <td> 0</td>\n",
       "      <td> 1</td>\n",
       "      <td> 1</td>\n",
       "      <td> 1</td>\n",
       "      <td> 0</td>\n",
       "      <td> 0</td>\n",
       "      <td> 1</td>\n",
       "      <td>...</td>\n",
       "      <td> 1</td>\n",
       "      <td> 0</td>\n",
       "      <td> 0</td>\n",
       "      <td> 1</td>\n",
       "      <td> 1</td>\n",
       "      <td> 0</td>\n",
       "      <td> 1</td>\n",
       "      <td> 1</td>\n",
       "      <td> 1</td>\n",
       "      <td> 0</td>\n",
       "    </tr>\n",
       "    <tr>\n",
       "      <th>3</th>\n",
       "      <td> 4</td>\n",
       "      <td> 1</td>\n",
       "      <td> 1</td>\n",
       "      <td> 1</td>\n",
       "      <td> 1</td>\n",
       "      <td> 1</td>\n",
       "      <td> 1</td>\n",
       "      <td> 1</td>\n",
       "      <td> 0</td>\n",
       "      <td> 1</td>\n",
       "      <td>...</td>\n",
       "      <td> 1</td>\n",
       "      <td> 1</td>\n",
       "      <td> 1</td>\n",
       "      <td> 1</td>\n",
       "      <td> 1</td>\n",
       "      <td> 1</td>\n",
       "      <td> 0</td>\n",
       "      <td> 0</td>\n",
       "      <td> 0</td>\n",
       "      <td> 1</td>\n",
       "    </tr>\n",
       "    <tr>\n",
       "      <th>4</th>\n",
       "      <td> 5</td>\n",
       "      <td> 1</td>\n",
       "      <td> 1</td>\n",
       "      <td> 1</td>\n",
       "      <td> 1</td>\n",
       "      <td> 1</td>\n",
       "      <td> 1</td>\n",
       "      <td> 1</td>\n",
       "      <td> 0</td>\n",
       "      <td> 1</td>\n",
       "      <td>...</td>\n",
       "      <td> 1</td>\n",
       "      <td> 1</td>\n",
       "      <td> 1</td>\n",
       "      <td> 1</td>\n",
       "      <td> 1</td>\n",
       "      <td> 1</td>\n",
       "      <td> 1</td>\n",
       "      <td> 1</td>\n",
       "      <td> 1</td>\n",
       "      <td> 0</td>\n",
       "    </tr>\n",
       "  </tbody>\n",
       "</table>\n",
       "<p>5 rows × 26 columns</p>\n",
       "</div>"
      ],
      "text/plain": [
       "   ID  item1  item2  item3  item4  item5  item6  item7  item8  item9   ...    \\\n",
       "0   1      0      1      1      1      1      1      1      1      1   ...     \n",
       "1   2      1      0      1      1      1      1      1      0      1   ...     \n",
       "2   3      1      0      0      1      1      1      0      0      1   ...     \n",
       "3   4      1      1      1      1      1      1      1      0      1   ...     \n",
       "4   5      1      1      1      1      1      1      1      0      1   ...     \n",
       "\n",
       "   item16  item17  item18  item19  item20  item21  item22  item23  item24  \\\n",
       "0       1       0       1       1       1       1       0       1       1   \n",
       "1       1       1       1       1       1       1       1       1       1   \n",
       "2       1       0       0       1       1       0       1       1       1   \n",
       "3       1       1       1       1       1       1       0       0       0   \n",
       "4       1       1       1       1       1       1       1       1       1   \n",
       "\n",
       "   item25  \n",
       "0       0  \n",
       "1       1  \n",
       "2       0  \n",
       "3       1  \n",
       "4       0  \n",
       "\n",
       "[5 rows x 26 columns]"
      ]
     },
     "execution_count": 42,
     "metadata": {},
     "output_type": "execute_result"
    }
   ],
   "source": [
    "itemData = pd.read_csv('itemData.csv')\n",
    "print(itemData.shape)\n",
    "itemData.head()"
   ]
  },
  {
   "cell_type": "markdown",
   "metadata": {
    "slideshow": {
     "slide_type": "slide"
    }
   },
   "source": [
    "## Classical item analysis function"
   ]
  },
  {
   "cell_type": "code",
   "execution_count": 43,
   "metadata": {
    "collapsed": true,
    "slideshow": {
     "slide_type": "slide"
    }
   },
   "outputs": [],
   "source": [
    "def CIA(CIAdat):\n",
    "        \n",
    "    CIAdat['AVGSCORE'] = CIAdat.iloc[:,1:CIAdat.shape[1]].mean(axis=1)\n",
    "    CIAdat['CountItemsAnswered']= CIAdat.iloc[:,1:CIAdat.shape[1]].count(axis=1)\n",
    "    AVGSCORE = CIAdat[['ID','AVGSCORE']]\n",
    "    CIAdat = CIAdat[(CIAdat.CountItemsAnswered > 3)] # Take only students who answered more than 3 items\n",
    "    CIAdat = CIAdat.sort('AVGSCORE',ascending = False)\n",
    "    CIAdat = CIAdat.drop(['AVGSCORE','CountItemsAnswered'],1)\n",
    "    \n",
    "    tablelist = []\n",
    "    for item in CIAdat:\n",
    "        if item != 'ID':\n",
    "            \n",
    "            count_overall = CIAdat[item].count()\n",
    "            a = pd.concat([CIAdat['ID'],CIAdat[item]],1)\n",
    "            b = a.merge(AVGSCORE, on = 'ID')\n",
    "            notnan_overall = a[~a[item].isnull()]\n",
    "\n",
    "            # remove items that are answered less than 10 times\n",
    "            if len(notnan_overall) < 10:\n",
    "                averageScore = np.nan\n",
    "                medianScore = np.nan\n",
    "                difficulty = np.nan\n",
    "                discrimination = np.nan\n",
    "                bisCorrpearson = np.nan\n",
    "            else:\n",
    "                medianScore = float(CIAdat[item].median())\n",
    "                Difficulty = float((CIAdat[item].mean()))\n",
    "                discrimination = b[item].corr(b['AVGSCORE'], method='spearman')\n",
    "                \n",
    "            tablerow = [item,count_overall,Difficulty,discrimination]\n",
    "            tablelist.append(tablerow)\n",
    "\n",
    "    CIAStats = pd.DataFrame(tablelist)\n",
    "    CIAStats.columns = ['QUESTIONID','Students Answered Count','Difficulty','Discrimination']\n",
    "    CIAStats.QUESTIONID.astype(str)    \n",
    "    \n",
    "    return CIAStats"
   ]
  },
  {
   "cell_type": "markdown",
   "metadata": {
    "slideshow": {
     "slide_type": "slide"
    }
   },
   "source": [
    "## Summary table of item statistics"
   ]
  },
  {
   "cell_type": "code",
   "execution_count": 44,
   "metadata": {
    "collapsed": false,
    "slideshow": {
     "slide_type": "slide"
    }
   },
   "outputs": [
    {
     "data": {
      "text/html": [
       "<div style=\"max-height:1000px;max-width:1500px;overflow:auto;\">\n",
       "<table border=\"1\" class=\"dataframe\">\n",
       "  <thead>\n",
       "    <tr style=\"text-align: right;\">\n",
       "      <th></th>\n",
       "      <th>QUESTIONID</th>\n",
       "      <th>Students Answered Count</th>\n",
       "      <th>Difficulty</th>\n",
       "      <th>Discrimination</th>\n",
       "    </tr>\n",
       "  </thead>\n",
       "  <tbody>\n",
       "    <tr>\n",
       "      <th>0 </th>\n",
       "      <td>  item1</td>\n",
       "      <td> 2000</td>\n",
       "      <td> 0.3740</td>\n",
       "      <td> 0.357040</td>\n",
       "    </tr>\n",
       "    <tr>\n",
       "      <th>1 </th>\n",
       "      <td>  item2</td>\n",
       "      <td> 2000</td>\n",
       "      <td> 0.9325</td>\n",
       "      <td> 0.102568</td>\n",
       "    </tr>\n",
       "    <tr>\n",
       "      <th>2 </th>\n",
       "      <td>  item3</td>\n",
       "      <td> 2000</td>\n",
       "      <td> 0.3105</td>\n",
       "      <td> 0.284215</td>\n",
       "    </tr>\n",
       "    <tr>\n",
       "      <th>3 </th>\n",
       "      <td>  item4</td>\n",
       "      <td> 2000</td>\n",
       "      <td> 0.9945</td>\n",
       "      <td> 0.046244</td>\n",
       "    </tr>\n",
       "    <tr>\n",
       "      <th>4 </th>\n",
       "      <td>  item5</td>\n",
       "      <td> 2000</td>\n",
       "      <td> 0.9910</td>\n",
       "      <td> 0.073271</td>\n",
       "    </tr>\n",
       "    <tr>\n",
       "      <th>5 </th>\n",
       "      <td>  item6</td>\n",
       "      <td> 2000</td>\n",
       "      <td> 0.6745</td>\n",
       "      <td> 0.396978</td>\n",
       "    </tr>\n",
       "    <tr>\n",
       "      <th>6 </th>\n",
       "      <td>  item7</td>\n",
       "      <td> 2000</td>\n",
       "      <td> 0.4245</td>\n",
       "      <td> 0.442480</td>\n",
       "    </tr>\n",
       "    <tr>\n",
       "      <th>7 </th>\n",
       "      <td>  item8</td>\n",
       "      <td> 2000</td>\n",
       "      <td> 0.0005</td>\n",
       "      <td> 0.010806</td>\n",
       "    </tr>\n",
       "    <tr>\n",
       "      <th>8 </th>\n",
       "      <td>  item9</td>\n",
       "      <td> 2000</td>\n",
       "      <td> 0.0030</td>\n",
       "      <td> 0.065762</td>\n",
       "    </tr>\n",
       "    <tr>\n",
       "      <th>9 </th>\n",
       "      <td> item10</td>\n",
       "      <td> 2000</td>\n",
       "      <td> 0.4640</td>\n",
       "      <td> 0.425436</td>\n",
       "    </tr>\n",
       "    <tr>\n",
       "      <th>10</th>\n",
       "      <td> item11</td>\n",
       "      <td> 2000</td>\n",
       "      <td> 0.6295</td>\n",
       "      <td> 0.335166</td>\n",
       "    </tr>\n",
       "    <tr>\n",
       "      <th>11</th>\n",
       "      <td> item12</td>\n",
       "      <td> 2000</td>\n",
       "      <td> 0.5550</td>\n",
       "      <td> 0.401737</td>\n",
       "    </tr>\n",
       "    <tr>\n",
       "      <th>12</th>\n",
       "      <td> item13</td>\n",
       "      <td> 2000</td>\n",
       "      <td> 0.5915</td>\n",
       "      <td> 0.324683</td>\n",
       "    </tr>\n",
       "    <tr>\n",
       "      <th>13</th>\n",
       "      <td> item14</td>\n",
       "      <td> 2000</td>\n",
       "      <td> 0.5795</td>\n",
       "      <td> 0.364223</td>\n",
       "    </tr>\n",
       "    <tr>\n",
       "      <th>14</th>\n",
       "      <td> item15</td>\n",
       "      <td> 2000</td>\n",
       "      <td> 0.5620</td>\n",
       "      <td> 0.354995</td>\n",
       "    </tr>\n",
       "    <tr>\n",
       "      <th>15</th>\n",
       "      <td> item16</td>\n",
       "      <td> 2000</td>\n",
       "      <td> 0.7160</td>\n",
       "      <td> 0.328104</td>\n",
       "    </tr>\n",
       "    <tr>\n",
       "      <th>16</th>\n",
       "      <td> item17</td>\n",
       "      <td> 2000</td>\n",
       "      <td> 0.4340</td>\n",
       "      <td> 0.362202</td>\n",
       "    </tr>\n",
       "    <tr>\n",
       "      <th>17</th>\n",
       "      <td> item18</td>\n",
       "      <td> 2000</td>\n",
       "      <td> 0.5245</td>\n",
       "      <td> 0.362925</td>\n",
       "    </tr>\n",
       "    <tr>\n",
       "      <th>18</th>\n",
       "      <td> item19</td>\n",
       "      <td> 2000</td>\n",
       "      <td> 0.4315</td>\n",
       "      <td> 0.315895</td>\n",
       "    </tr>\n",
       "    <tr>\n",
       "      <th>19</th>\n",
       "      <td> item20</td>\n",
       "      <td> 2000</td>\n",
       "      <td> 0.6085</td>\n",
       "      <td> 0.293686</td>\n",
       "    </tr>\n",
       "    <tr>\n",
       "      <th>20</th>\n",
       "      <td> item21</td>\n",
       "      <td> 2000</td>\n",
       "      <td> 0.5610</td>\n",
       "      <td> 0.362683</td>\n",
       "    </tr>\n",
       "    <tr>\n",
       "      <th>21</th>\n",
       "      <td> item22</td>\n",
       "      <td> 2000</td>\n",
       "      <td> 0.6235</td>\n",
       "      <td> 0.301639</td>\n",
       "    </tr>\n",
       "    <tr>\n",
       "      <th>22</th>\n",
       "      <td> item23</td>\n",
       "      <td> 2000</td>\n",
       "      <td> 0.6550</td>\n",
       "      <td> 0.346907</td>\n",
       "    </tr>\n",
       "    <tr>\n",
       "      <th>23</th>\n",
       "      <td> item24</td>\n",
       "      <td> 2000</td>\n",
       "      <td> 0.6280</td>\n",
       "      <td> 0.360813</td>\n",
       "    </tr>\n",
       "    <tr>\n",
       "      <th>24</th>\n",
       "      <td> item25</td>\n",
       "      <td> 2000</td>\n",
       "      <td> 0.4035</td>\n",
       "      <td> 0.373487</td>\n",
       "    </tr>\n",
       "  </tbody>\n",
       "</table>\n",
       "</div>"
      ],
      "text/plain": [
       "   QUESTIONID  Students Answered Count  Difficulty  Discrimination\n",
       "0       item1                     2000      0.3740        0.357040\n",
       "1       item2                     2000      0.9325        0.102568\n",
       "2       item3                     2000      0.3105        0.284215\n",
       "3       item4                     2000      0.9945        0.046244\n",
       "4       item5                     2000      0.9910        0.073271\n",
       "5       item6                     2000      0.6745        0.396978\n",
       "6       item7                     2000      0.4245        0.442480\n",
       "7       item8                     2000      0.0005        0.010806\n",
       "8       item9                     2000      0.0030        0.065762\n",
       "9      item10                     2000      0.4640        0.425436\n",
       "10     item11                     2000      0.6295        0.335166\n",
       "11     item12                     2000      0.5550        0.401737\n",
       "12     item13                     2000      0.5915        0.324683\n",
       "13     item14                     2000      0.5795        0.364223\n",
       "14     item15                     2000      0.5620        0.354995\n",
       "15     item16                     2000      0.7160        0.328104\n",
       "16     item17                     2000      0.4340        0.362202\n",
       "17     item18                     2000      0.5245        0.362925\n",
       "18     item19                     2000      0.4315        0.315895\n",
       "19     item20                     2000      0.6085        0.293686\n",
       "20     item21                     2000      0.5610        0.362683\n",
       "21     item22                     2000      0.6235        0.301639\n",
       "22     item23                     2000      0.6550        0.346907\n",
       "23     item24                     2000      0.6280        0.360813\n",
       "24     item25                     2000      0.4035        0.373487"
      ]
     },
     "execution_count": 44,
     "metadata": {},
     "output_type": "execute_result"
    }
   ],
   "source": [
    "CIAStats = CIA(itemData)\n",
    "CIAStats"
   ]
  },
  {
   "cell_type": "code",
   "execution_count": 46,
   "metadata": {
    "collapsed": false,
    "slideshow": {
     "slide_type": "slide"
    }
   },
   "outputs": [
    {
     "data": {
      "image/png": "[encoded data removed]",
      "text/plain": [
       "<matplotlib.figure.Figure at 0x10ba234d0>"
      ]
     },
     "metadata": {},
     "output_type": "display_data"
    }
   ],
   "source": [
    "plt.scatter(CIAStats.Difficulty,CIAStats.Discrimination)\n",
    "plt.xlabel('Difficulty')\n",
    "plt.ylabel('Discrimination')\n",
    "plt.title('Item Difficulty and Discrimination')\n",
    "plt.show()"
   ]
  },
  {
   "cell_type": "markdown",
   "metadata": {
    "slideshow": {
     "slide_type": "slide"
    }
   },
   "source": [
    "## How to use item statistics to improve item bank quality"
   ]
  },
  {
   "cell_type": "markdown",
   "metadata": {
    "collapsed": true,
    "slideshow": {
     "slide_type": "fragment"
    }
   },
   "source": [
    "#### Questions\n",
    "1. Which item(s) could you remove altogether from the exam? Why?\n",
    "2. Which items are working well?"
   ]
  },
  {
   "cell_type": "markdown",
   "metadata": {
    "slideshow": {
     "slide_type": "slide"
    }
   },
   "source": [
    "#### Which item(s) could you remove altogether from the exam? Why?\n",
    "By exploring item difficulty, \n",
    "* items 2, 4, and 5 appear extremely easy (Difficulty >.90)\n",
    "* items 8 and 9 appear extremely difficult (Difficulty <. 20)\n",
    "By exploring item discrimination, \n",
    "* items 4, 8, 9, and possibly 5 appear to indicate poor discriminating items (discrimination values near or less than 0.1). \n",
    "\n",
    "This indicates that students who overall did poorly on the exam did better on these questions than students who overall did well.\n",
    "\n",
    "Therefore, by combining the results from these two investigations, items 4, 5, 8, and 9 appear to be the best items to delete from this exam. It is good practice to review deleting item process before deleting items from exam."
   ]
  },
  {
   "cell_type": "markdown",
   "metadata": {
    "slideshow": {
     "slide_type": "slide"
    }
   },
   "source": [
    "#### Which items are working well?\n",
    "Items that appear to be working well (i.e. good difficulty, and discrimination) are items, 1, 2, 3, and possibly 7 and 10 depending upon the purpose of the exam."
   ]
  },
  {
   "cell_type": "markdown",
   "metadata": {
    "slideshow": {
     "slide_type": "slide"
    }
   },
   "source": [
    "# Item Response Theory (IRT)\n",
    "<img src='IRTmethods.png' width=\"500\" height=\"500\" >"
   ]
  },
  {
   "cell_type": "markdown",
   "metadata": {
    "slideshow": {
     "slide_type": "slide"
    }
   },
   "source": [
    "# Classical Test Theory vs. Latent Trait Models\n",
    "\n",
    "* Classical analysis has the test (not the item) as its basis. Although the statistics generated are often generalised to similar students taking a similar test; they only really apply to those students taking that test\n",
    "* Latent trait models aim to look beyond that at the underlying traits which are producing the test performance.  They are measured at item level and provide sample-free measurement"
   ]
  },
  {
   "cell_type": "markdown",
   "metadata": {
    "slideshow": {
     "slide_type": "slide"
    }
   },
   "source": [
    "## Why IRT is a latent trait models\n",
    "What are exams trying to measure:\n",
    "\n",
    "* The Students’ Ability\n",
    "\n",
    "Features of Ability:\n",
    "* something that is abstract\n",
    "* something that cannot be directly measured\n",
    "* something that is latent"
   ]
  }
 ],
 "metadata": {
  "celltoolbar": "Slideshow",
  "kernelspec": {
   "display_name": "Python 2",
   "language": "python",
   "name": "python2"
  },
  "language_info": {
   "codemirror_mode": {
    "name": "ipython",
    "version": 2
   },
   "file_extension": ".py",
   "mimetype": "text/x-python",
   "name": "python",
   "nbconvert_exporter": "python",
   "pygments_lexer": "ipython2",
   "version": "2.7.10"
  }
 },
 "nbformat": 4,
 "nbformat_minor": 0
}
